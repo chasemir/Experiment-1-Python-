{
 "cells": [
  {
   "cell_type": "markdown",
   "id": "30fe92a1-2420-4256-9420-0a84a393d315",
   "metadata": {},
   "source": [
    "## Alphabet Soup Problem"
   ]
  },
  {
   "cell_type": "code",
   "execution_count": 16,
   "id": "9229a3da-d4fc-4adc-a325-791ec8487e7e",
   "metadata": {},
   "outputs": [
    {
     "name": "stdin",
     "output_type": "stream",
     "text": [
      "Enter a string:  hello\n"
     ]
    },
    {
     "name": "stdout",
     "output_type": "stream",
     "text": [
      "ehllo\n"
     ]
    }
   ],
   "source": [
    "def alphabet_soup(string):\n",
    "# convert the string to a list to sort it alphabetically \n",
    "    arr = sorted(list(string))\n",
    "# convert the list back to a string\n",
    "    new = ''\n",
    "    for char in arr:\n",
    "        new += char\n",
    "        \n",
    "    return new\n",
    "\n",
    "word = input(\"Enter a string: \")\n",
    "print(alphabet_soup(word))\n"
   ]
  },
  {
   "cell_type": "markdown",
   "id": "fc24caaf-a80f-4c8f-b850-6634c8368345",
   "metadata": {},
   "source": [
    "## Emoticon Problem"
   ]
  },
  {
   "cell_type": "code",
   "execution_count": 52,
   "id": "f6454677-e598-457e-8177-6a6a67fb7cda",
   "metadata": {},
   "outputs": [
    {
     "name": "stdin",
     "output_type": "stream",
     "text": [
      "How are you feeling today?\n",
      " Ma'am sad ako\n"
     ]
    },
    {
     "name": "stdout",
     "output_type": "stream",
     "text": [
      "Ma'am:((ako\n"
     ]
    }
   ],
   "source": [
    "def emotify(string):\n",
    "# split the string\n",
    "    split = string.split(\" \")\n",
    "# Make a dictianary \n",
    "    emoji = {\n",
    "        \"happy\": \":)\",\n",
    "        \"grin\": \":D\",\n",
    "        \"sad\": \":((\",\n",
    "        \"mad\": \">:(\"\n",
    "    }\n",
    "\n",
    "# replace the words to their corresponding emoticon \n",
    "    new = ''\n",
    "    for word in split:\n",
    "        new += emoji.get(word, word)\n",
    "        \n",
    "    return new\n",
    "\n",
    "    \n",
    "statement = input(\"How are you feeling today?\\n\")\n",
    "print(emotify(statement))"
   ]
  },
  {
   "cell_type": "markdown",
   "id": "482ce12c-e230-4474-93c1-e10e16bfaef4",
   "metadata": {},
   "source": [
    "## Unpacking List Problem"
   ]
  },
  {
   "cell_type": "code",
   "execution_count": 82,
   "id": "5e41f2c1-5b29-4c6d-bc96-5bc74124c833",
   "metadata": {},
   "outputs": [
    {
     "name": "stdin",
     "output_type": "stream",
     "text": [
      "Enter number of elements:  6\n",
      " 3\n",
      " 4\n",
      " 7\n",
      " 8\n",
      " 2\n",
      " 4\n"
     ]
    },
    {
     "name": "stdout",
     "output_type": "stream",
     "text": [
      "[3, 4, 7, 8, 2, 4]\n",
      "First: \n",
      "3\n",
      "Last: \n",
      "4\n",
      "Middle: \n",
      "[4, 7, 8, 2]\n",
      "None\n"
     ]
    }
   ],
   "source": [
    "def unpack(list):\n",
    "\n",
    "# Using a list isolate the first, last and the middle elements\n",
    "    print(\"First: \")\n",
    "    print(list[0])\n",
    "    \n",
    "    print(\"Last: \")\n",
    "    print(list[-1])\n",
    "\n",
    "    print(\"Middle: \")\n",
    "    print(list[1:-1])\n",
    "\n",
    "\n",
    "# Input the values and lenght of the list\n",
    "ar = []\n",
    "amount = int(input(\"Enter number of elements: \"))\n",
    "for i in range(0, amount):\n",
    "    ray = int(input())\n",
    "    ar.append(ray)\n",
    "\n",
    "print(ar)\n",
    "print(unpack(ar))"
   ]
  },
  {
   "cell_type": "code",
   "execution_count": null,
   "id": "26d71536-28af-4207-a170-8416c699390a",
   "metadata": {},
   "outputs": [],
   "source": []
  }
 ],
 "metadata": {
  "kernelspec": {
   "display_name": "Python 3 (ipykernel)",
   "language": "python",
   "name": "python3"
  },
  "language_info": {
   "codemirror_mode": {
    "name": "ipython",
    "version": 3
   },
   "file_extension": ".py",
   "mimetype": "text/x-python",
   "name": "python",
   "nbconvert_exporter": "python",
   "pygments_lexer": "ipython3",
   "version": "3.12.4"
  }
 },
 "nbformat": 4,
 "nbformat_minor": 5
}
